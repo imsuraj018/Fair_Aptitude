{
 "cells": [
  {
   "cell_type": "code",
   "execution_count": null,
   "id": "812632da-c3b4-4550-81cd-15f7fad16739",
   "metadata": {},
   "outputs": [],
   "source": [
    "import psycopg2\n",
    "import base64\n",
    "import os\n",
    "\n",
    "# Connect to NeonDB\n",
    "conn = psycopg2.connect(\n",
    "   #add your database credentials\n",
    ")\n",
    "cur = conn.cursor()\n",
    "\n",
    "\n",
    "os.makedirs(\"retrieved_snapshots\", exist_ok=True)\n",
    "\n",
    "\n",
    "cur.execute(\"SELECT id, student_name, name, ts, photo_b64 FROM Fair_Exam ORDER BY ts DESC LIMIT 5;\") #select limits \n",
    "rows = cur.fetchall()\n",
    "\n",
    "for row in rows:\n",
    "    snap_id, student_name, event_name, ts, photo_b64 = row\n",
    "    \n",
    "    img_bytes = base64.b64decode(photo_b64)\n",
    "    \n",
    "    # Save as image\n",
    "    filename = f\"retrieved_snapshots/{snap_id}_{event_name}.jpg\"\n",
    "    with open(filename, \"wb\") as f:\n",
    "        f.write(img_bytes)\n",
    "    \n",
    "    print(f\"Retrieved snapshot {snap_id} for {student_name} ({event_name}) saved as {filename}\")\n",
    "\n",
    "cur.close()\n",
    "conn.close()\n"
   ]
  }
 ],
 "metadata": {
  "kernelspec": {
   "display_name": "Python [conda env:base] *",
   "language": "python",
   "name": "conda-base-py"
  },
  "language_info": {
   "codemirror_mode": {
    "name": "ipython",
    "version": 3
   },
   "file_extension": ".py",
   "mimetype": "text/x-python",
   "name": "python",
   "nbconvert_exporter": "python",
   "pygments_lexer": "ipython3",
   "version": "3.13.5"
  }
 },
 "nbformat": 4,
 "nbformat_minor": 5
}
